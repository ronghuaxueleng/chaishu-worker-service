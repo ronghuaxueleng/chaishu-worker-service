{
 "cells": [
  {
   "cell_type": "markdown",
   "metadata": {},
   "source": "# 拆书系统 - 知识图谱 Worker 节点 (Kaggle)\n\n## 说明\n\n这是一个在 Kaggle 上运行的知识图谱 Worker 节点，适用于**私有代码仓库**。\n\n### 环境要求\n- **CPU Only** 环境即可（不需要 GPU）\n- **Internet** 必须开启\n- **资源**: 4核 CPU + 16GB 内存\n\n### 运行时长\n- 免费版: 最长 9 小时，每周 30 小时配额\n- 付费版: 无限时长\n\n### 配置步骤\n\n#### 1. 准备代码包（本地执行）\n```bash\ncd chaishu-vue3\nzip -r chaishu-vue3.zip . -x \"*.git*\" \"*node_modules*\" \"*frontend/dist*\" \"*__pycache__*\" \"*.pyc\" \"*venv*\"\n```\n\n#### 2. 上传到 Kaggle（选择其一）\n- **方式一**: 在 Notebook 右侧点击 **+ Add Data** → **Upload** → 上传 `chaishu-vue3.zip`\n- **方式二**: 创建私有 Dataset，然后在 Notebook 中添加\n\n#### 3. 配置 Kaggle 环境\n- **Accelerator**: CPU (不要选 GPU)\n- **Internet**: ON（必需！）\n- **Persistence**: OFF（可选）\n\n#### 4. 修改配置并运行\n- 修改下方 **Cell 3: 配置环境变量** 中的连接信息\n- 依次运行所有单元格\n\n---"
  },
  {
   "cell_type": "markdown",
   "metadata": {},
   "source": [
    "## 1. 安装依赖包"
   ]
  },
  {
   "cell_type": "code",
   "execution_count": null,
   "metadata": {},
   "outputs": [],
   "source": [
    "%%time\n",
    "print(\"开始安装依赖包...\")\n",
    "\n",
    "!pip install -q Flask==2.3.3 \\\n",
    "    Flask-CORS==4.0.0 \\\n",
    "    Flask-SocketIO==5.3.6 \\\n",
    "    SQLAlchemy==2.0.21 \\\n",
    "    httpx==0.25.0 \\\n",
    "    PyMySQL==1.1.0 \\\n",
    "    neo4j==5.28.0 \\\n",
    "    redis==5.0.0 \\\n",
    "    python-dotenv==1.0.0 \\\n",
    "    APScheduler==3.11.0 \\\n",
    "    requests==2.32.0 \\\n",
    "    chardet==5.2.0\n",
    "\n",
    "print(\"✅ 依赖包安装完成\")"
   ]
  },
  {
   "cell_type": "markdown",
   "metadata": {},
   "source": "## 2. 上传项目代码\n\n**⚠️ 重要：需要手动上传项目代码包**\n\n### 方式一：上传 ZIP 包（推荐）\n1. 在本地将项目打包为 `chaishu-vue3.zip`\n2. 在 Kaggle Notebook 右侧点击 **Add Data** → **Upload**\n3. 上传 ZIP 文件\n4. 运行下面的代码解压\n\n### 方式二：使用 Kaggle Dataset\n1. 将项目代码上传为私有 Dataset\n2. 在 Notebook 中添加该 Dataset\n3. 代码会自动从 `/kaggle/input/` 读取"
  },
  {
   "cell_type": "code",
   "execution_count": null,
   "metadata": {},
   "outputs": [],
   "source": "%%time\nimport os\nimport zipfile\nfrom pathlib import Path\n\n# 方式一：从上传的 ZIP 解压\nzip_path = '/kaggle/working/chaishu-vue3.zip'\ndataset_path = '/kaggle/input/chaishu-vue3'\n\nif os.path.exists(zip_path):\n    print(\"检测到上传的 ZIP 文件，开始解压...\")\n    with zipfile.ZipFile(zip_path, 'r') as zip_ref:\n        zip_ref.extractall('/kaggle/working/')\n    print(\"✅ ZIP 解压完成\")\n    \n    # 查找解压后的目录（可能在子目录中）\n    if os.path.exists('/kaggle/working/chaishu-vue3'):\n        project_dir = '/kaggle/working/chaishu-vue3'\n    else:\n        # 查找第一个包含 worker.py 的目录\n        for root, dirs, files in os.walk('/kaggle/working'):\n            if 'worker.py' in files:\n                project_dir = root\n                break\n        else:\n            raise FileNotFoundError(\"未找到项目目录，请确认 ZIP 包结构\")\n    \n# 方式二：从 Kaggle Dataset 复制\nelif os.path.exists(dataset_path):\n    print(\"检测到 Kaggle Dataset，开始复制...\")\n    import shutil\n    project_dir = '/kaggle/working/chaishu-vue3'\n    shutil.copytree(dataset_path, project_dir)\n    print(\"✅ Dataset 复制完成\")\n    \nelse:\n    raise FileNotFoundError(\n        \"❌ 未找到项目代码！\\n\\n\"\n        \"请选择以下方式之一上传代码：\\n\"\n        \"1. 上传 chaishu-vue3.zip 到 /kaggle/working/\\n\"\n        \"2. 添加 chaishu-vue3 Dataset 到此 Notebook\"\n    )\n\n# 切换到项目目录\n%cd {project_dir}\n\nprint(f\"✅ 代码准备完成\")\nprint(f\"当前目录: {os.getcwd()}\")\n\n# 验证关键文件\nrequired_files = ['worker.py', 'requirements.txt', 'src/services/knowledge_graph_service.py']\nmissing_files = [f for f in required_files if not os.path.exists(f)]\nif missing_files:\n    print(f\"⚠️ 警告：缺少文件 {missing_files}\")\nelse:\n    print(\"✅ 关键文件检查通过\")"
  },
  {
   "cell_type": "markdown",
   "metadata": {},
   "source": [
    "## 3. 配置环境变量\n",
    "\n",
    "**⚠️ 重要: 请修改下方的配置信息为你的实际服务器地址和密码**"
   ]
  },
  {
   "cell_type": "code",
   "execution_count": null,
   "metadata": {},
   "outputs": [],
   "source": [
    "import os\n",
    "\n",
    "# ==================== Redis 配置 ====================\n",
    "os.environ['REDIS_HOST'] = 'your-redis-host.com'        # 修改为你的 Redis 地址\n",
    "os.environ['REDIS_PORT'] = '6379'\n",
    "os.environ['REDIS_PASSWORD'] = 'your-redis-password'    # 修改为你的 Redis 密码\n",
    "os.environ['REDIS_DB'] = '0'\n",
    "\n",
    "# ==================== MySQL 配置 ====================\n",
    "os.environ['DB_HOST'] = 'your-mysql-host.com'           # 修改为你的 MySQL 地址\n",
    "os.environ['DB_PORT'] = '3306'\n",
    "os.environ['DB_USER'] = 'root'                          # 修改为你的 MySQL 用户名\n",
    "os.environ['DB_PASSWORD'] = 'your-mysql-password'       # 修改为你的 MySQL 密码\n",
    "os.environ['DB_NAME'] = 'chaishu'\n",
    "\n",
    "# ==================== Neo4j 配置 ====================\n",
    "os.environ['NEO4J_URI'] = 'bolt://your-neo4j-host.com:7687'  # 修改为你的 Neo4j 地址\n",
    "os.environ['NEO4J_USER'] = 'neo4j'\n",
    "os.environ['NEO4J_PASSWORD'] = 'your-neo4j-password'    # 修改为你的 Neo4j 密码\n",
    "\n",
    "# ==================== Worker 配置 ====================\n",
    "# Kaggle CPU 环境: 4核 16GB 内存，可以运行较多进程\n",
    "os.environ['KG_WORKERS_PER_PROVIDER'] = '8'             # 每个 Provider 8 个进程\n",
    "os.environ['KG_WORKER_NODE_NAME'] = 'kaggle-cpu-worker-1'\n",
    "os.environ['KG_MAX_TOTAL_PROCESSES'] = '50'\n",
    "os.environ['KG_MAX_PROCESSES_PER_PROVIDER'] = '10'\n",
    "os.environ['LOG_LEVEL'] = 'INFO'\n",
    "\n",
    "# 设置 Docker 环境标记（避免不必要的配置加载）\n",
    "os.environ['DOCKER_ENV'] = 'true'\n",
    "\n",
    "print(\"✅ 环境变量配置完成\")\n",
    "print(\"\\n配置摘要:\")\n",
    "print(f\"  Redis: {os.environ['REDIS_HOST']}:{os.environ['REDIS_PORT']}\")\n",
    "print(f\"  MySQL: {os.environ['DB_HOST']}:{os.environ['DB_PORT']}\")\n",
    "print(f\"  Neo4j: {os.environ['NEO4J_URI']}\")\n",
    "print(f\"  Worker: {os.environ['KG_WORKER_NODE_NAME']}\")\n",
    "print(f\"  进程数: {os.environ['KG_WORKERS_PER_PROVIDER']} 进程/Provider\")"
   ]
  },
  {
   "cell_type": "markdown",
   "metadata": {},
   "source": [
    "## 4. 验证网络连通性（可选）\n",
    "\n",
    "运行此单元格验证能否连接到 Redis、MySQL、Neo4j"
   ]
  },
  {
   "cell_type": "code",
   "execution_count": null,
   "metadata": {},
   "outputs": [],
   "source": [
    "import socket\n",
    "\n",
    "def test_connection(host, port, name):\n",
    "    \"\"\"测试网络连通性\"\"\"\n",
    "    try:\n",
    "        sock = socket.socket(socket.AF_INET, socket.SOCK_STREAM)\n",
    "        sock.settimeout(5)\n",
    "        result = sock.connect_ex((host, int(port)))\n",
    "        sock.close()\n",
    "        if result == 0:\n",
    "            print(f\"✅ {name} 连接成功: {host}:{port}\")\n",
    "            return True\n",
    "        else:\n",
    "            print(f\"❌ {name} 连接失败: {host}:{port}\")\n",
    "            return False\n",
    "    except Exception as e:\n",
    "        print(f\"❌ {name} 连接错误: {e}\")\n",
    "        return False\n",
    "\n",
    "print(\"测试网络连通性...\\n\")\n",
    "\n",
    "redis_ok = test_connection(os.environ['REDIS_HOST'], os.environ['REDIS_PORT'], 'Redis')\n",
    "mysql_ok = test_connection(os.environ['DB_HOST'], os.environ['DB_PORT'], 'MySQL')\n",
    "\n",
    "# Neo4j URI 解析\n",
    "neo4j_uri = os.environ['NEO4J_URI']\n",
    "neo4j_host = neo4j_uri.split('://')[1].split(':')[0]\n",
    "neo4j_port = neo4j_uri.split(':')[-1].split('/')[0]\n",
    "neo4j_ok = test_connection(neo4j_host, neo4j_port, 'Neo4j')\n",
    "\n",
    "print(\"\\n网络连通性测试完成\")\n",
    "if redis_ok and mysql_ok and neo4j_ok:\n",
    "    print(\"✅ 所有服务连接正常，可以启动 Worker\")\n",
    "else:\n",
    "    print(\"⚠️ 部分服务连接失败，请检查配置\")"
   ]
  },
  {
   "cell_type": "markdown",
   "metadata": {},
   "source": [
    "## 5. 创建必要的目录"
   ]
  },
  {
   "cell_type": "code",
   "execution_count": null,
   "metadata": {},
   "outputs": [],
   "source": [
    "import os\n",
    "\n",
    "# 创建日志目录\n",
    "!mkdir -p logs\n",
    "\n",
    "print(\"✅ 目录创建完成\")\n",
    "print(f\"日志目录: {os.path.abspath('logs')}\")"
   ]
  },
  {
   "cell_type": "markdown",
   "metadata": {},
   "source": [
    "## 6. 查看系统资源\n",
    "\n",
    "查看 Kaggle 环境提供的资源"
   ]
  },
  {
   "cell_type": "code",
   "execution_count": null,
   "metadata": {},
   "outputs": [],
   "source": [
    "import psutil\n",
    "\n",
    "# CPU 信息\n",
    "cpu_count = psutil.cpu_count()\n",
    "cpu_percent = psutil.cpu_percent(interval=1)\n",
    "\n",
    "# 内存信息\n",
    "mem = psutil.virtual_memory()\n",
    "mem_total = mem.total / (1024**3)  # GB\n",
    "mem_available = mem.available / (1024**3)\n",
    "mem_percent = mem.percent\n",
    "\n",
    "# 磁盘信息\n",
    "disk = psutil.disk_usage('/')\n",
    "disk_total = disk.total / (1024**3)\n",
    "disk_free = disk.free / (1024**3)\n",
    "disk_percent = disk.percent\n",
    "\n",
    "print(\"📊 Kaggle 环境资源信息\")\n",
    "print(\"=\" * 50)\n",
    "print(f\"CPU: {cpu_count} 核\")\n",
    "print(f\"CPU 使用率: {cpu_percent}%\")\n",
    "print(f\"\\n内存: {mem_total:.1f} GB\")\n",
    "print(f\"可用内存: {mem_available:.1f} GB\")\n",
    "print(f\"内存使用率: {mem_percent}%\")\n",
    "print(f\"\\n磁盘: {disk_total:.1f} GB\")\n",
    "print(f\"可用磁盘: {disk_free:.1f} GB\")\n",
    "print(f\"磁盘使用率: {disk_percent}%\")\n",
    "print(\"=\" * 50)\n",
    "\n",
    "# 估算可运行的 Worker 进程数\n",
    "max_workers = int(mem_available * 1024 / 100)  # 每进程 100MB\n",
    "print(f\"\\n💡 预计可运行 Worker 进程数: ~{max_workers} 个\")"
   ]
  },
  {
   "cell_type": "markdown",
   "metadata": {},
   "source": [
    "## 7. 启动 Worker 节点\n",
    "\n",
    "**⚠️ 注意**: \n",
    "- 此单元格会持续运行直到手动停止或达到 9 小时限制\n",
    "- 可以通过点击单元格左侧的停止按钮来停止 Worker\n",
    "- 建议在新窗口打开 Kaggle 页面，避免意外关闭"
   ]
  },
  {
   "cell_type": "code",
   "execution_count": null,
   "metadata": {},
   "outputs": [],
   "source": [
    "# 启动 Worker\n",
    "!python worker.py"
   ]
  },
  {
   "cell_type": "markdown",
   "metadata": {},
   "source": [
    "## 8. 监控 Worker 状态（可选）\n",
    "\n",
    "如果需要在后台运行 Worker 并监控状态，可以使用此单元格"
   ]
  },
  {
   "cell_type": "code",
   "execution_count": null,
   "metadata": {},
   "outputs": [],
   "source": [
    "import subprocess\n",
    "import time\n",
    "import psutil\n",
    "\n",
    "# 后台启动 Worker\n",
    "print(\"在后台启动 Worker...\")\n",
    "worker_process = subprocess.Popen(\n",
    "    ['python', 'worker.py'],\n",
    "    stdout=subprocess.PIPE,\n",
    "    stderr=subprocess.PIPE,\n",
    "    text=True\n",
    ")\n",
    "\n",
    "print(f\"✅ Worker 进程已启动 (PID: {worker_process.pid})\")\n",
    "print(\"\\n开始监控资源使用...\")\n",
    "print(\"按 Interrupt 键停止监控\\n\")\n",
    "\n",
    "try:\n",
    "    while True:\n",
    "        # CPU 使用率\n",
    "        cpu = psutil.cpu_percent(interval=1)\n",
    "        \n",
    "        # 内存使用\n",
    "        mem = psutil.virtual_memory()\n",
    "        mem_used = mem.used / (1024**3)\n",
    "        mem_total = mem.total / (1024**3)\n",
    "        mem_percent = mem.percent\n",
    "        \n",
    "        # 进程数\n",
    "        worker_processes = [p for p in psutil.process_iter(['name']) if 'python' in p.info['name'].lower()]\n",
    "        \n",
    "        # 输出状态\n",
    "        print(f\"\\r[{time.strftime('%H:%M:%S')}] \"\n",
    "              f\"CPU: {cpu:5.1f}% | \"\n",
    "              f\"内存: {mem_used:5.1f}/{mem_total:.1f}GB ({mem_percent:5.1f}%) | \"\n",
    "              f\"进程数: {len(worker_processes)}\",\n",
    "              end='', flush=True)\n",
    "        \n",
    "        time.sleep(5)\n",
    "        \n",
    "except KeyboardInterrupt:\n",
    "    print(\"\\n\\n停止监控\")\n",
    "    worker_process.terminate()\n",
    "    print(\"Worker 进程已停止\")"
   ]
  },
  {
   "cell_type": "markdown",
   "metadata": {},
   "source": [
    "## 9. 查看 Worker 日志（故障排查）"
   ]
  },
  {
   "cell_type": "code",
   "execution_count": null,
   "metadata": {},
   "outputs": [],
   "source": [
    "# 查看最新的 50 行日志\n",
    "!tail -n 50 logs/worker.log"
   ]
  },
  {
   "cell_type": "markdown",
   "metadata": {},
   "source": [
    "## 10. 停止 Worker（清理）"
   ]
  },
  {
   "cell_type": "code",
   "execution_count": null,
   "metadata": {},
   "outputs": [],
   "source": [
    "import signal\n",
    "import os\n",
    "\n",
    "# 查找并停止所有 worker.py 进程\n",
    "!pkill -f \"python worker.py\"\n",
    "\n",
    "print(\"✅ Worker 进程已停止\")\n",
    "\n",
    "# 验证\n",
    "import time\n",
    "time.sleep(2)\n",
    "result = !ps aux | grep \"worker.py\" | grep -v grep | wc -l\n",
    "if int(result[0]) == 0:\n",
    "    print(\"✅ 所有 Worker 进程已清理\")\n",
    "else:\n",
    "    print(f\"⚠️ 还有 {result[0]} 个进程运行中\")"
   ]
  },
  {
   "cell_type": "markdown",
   "metadata": {},
   "source": "---\n\n## 📝 使用说明\n\n### 准备工作\n\n1. **打包项目代码**（本地执行）：\n   ```bash\n   cd chaishu-vue3\n   zip -r chaishu-vue3.zip . -x \"*.git*\" \"*node_modules*\" \"*frontend/dist*\" \"*__pycache__*\" \"*.pyc\" \"*venv*\"\n   ```\n\n2. **上传到 Kaggle**（选择其一）：\n   - 方式一: 在 Notebook 右侧 **+ Add Data** → **Upload** → 上传 ZIP\n   - 方式二: 创建私有 Dataset，然后在 Notebook 中添加\n\n### 首次使用\n\n1. **上传代码**: 按上述方式上传 `chaishu-vue3.zip`\n2. **修改配置**: 在 **Cell 3** 中填写 Redis/MySQL/Neo4j 连接信息\n3. **依次运行**: Cell 1 → Cell 2 → ... → Cell 7\n4. **查看日志**: Cell 7 会显示 Worker 运行日志\n\n### 监控和管理\n\n- **Cell 8**: 后台运行 Worker 并实时监控资源\n- **Cell 9**: 查看日志排查问题\n- **Cell 10**: 停止 Worker\n\n### 注意事项\n\n- ⚠️ **私有仓库**: 代码无法直接 git clone，必须手动上传\n- ⚠️ **运行时长**: Kaggle 免费版最长运行 9 小时\n- ⚠️ **保持在线**: 需要保持浏览器窗口打开\n- ⚠️ **防止休眠**: 建议使用浏览器插件防止页面休眠\n- ✅ **多账号轮换**: 可以使用多个 Kaggle 账号轮流运行\n\n### 性能优化\n\n- Kaggle CPU 环境: 4核 16GB 内存\n- 推荐配置: 8-10 进程/Provider\n- 总进程数建议: 40-80 个（取决于 Provider 数量）\n\n### 故障排查\n\n1. **代码上传问题**: \n   - 确认文件名为 `chaishu-vue3.zip`\n   - 检查 Cell 2 是否成功解压\n   - 查看 `worker.py` 是否存在\n\n2. **网络连接问题**: \n   - 运行 Cell 4 检查连通性\n   - 确认 Internet 设置为 ON\n\n3. **配置错误**: \n   - 检查 Cell 3 的环境变量\n   - 验证 Redis/MySQL/Neo4j 地址和密码\n\n4. **进程崩溃**: \n   - 查看 Cell 9 的日志\n   - 检查内存使用情况\n\n---\n\n## 📚 相关文档\n\n- [Worker节点配置要求与部署指南](https://github.com/ronghuaxueleng/chaishu-vue3/blob/main/docs/Worker节点配置要求与部署指南.md)\n- [Worker节点任务分配与故障恢复机制](https://github.com/ronghuaxueleng/chaishu-vue3/blob/main/docs/Worker节点任务分配与故障恢复机制.md)\n- [Worker分布式部署实施总结](https://github.com/ronghuaxueleng/chaishu-vue3/blob/main/docs/Worker分布式部署实施总结.md)\n- [Kaggle部署Worker节点指南](https://github.com/ronghuaxueleng/chaishu-vue3/blob/main/docs/Kaggle部署Worker节点指南.md)\n\n---\n\n**版本**: v1.1 (支持私有仓库)  \n**更新日期**: 2025-10-17  \n**作者**: Claude Code  \n**项目**: [chaishu-vue3](https://github.com/ronghuaxueleng/chaishu-vue3)"
  }
 ],
 "metadata": {
  "kernelspec": {
   "display_name": "Python 3",
   "language": "python",
   "name": "python3"
  },
  "language_info": {
   "codemirror_mode": {
    "name": "ipython",
    "version": 3
   },
   "file_extension": ".py",
   "mimetype": "text/x-python",
   "name": "python",
   "nbconvert_exporter": "python",
   "pygments_lexer": "ipython3",
   "version": "3.10.0"
  }
 },
 "nbformat": 4,
 "nbformat_minor": 4
}