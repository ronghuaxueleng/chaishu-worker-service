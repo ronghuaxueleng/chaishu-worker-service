{
 "metadata": {
  "kernelspec": {
   "language": "python",
   "display_name": "Python 3",
   "name": "python3"
  },
  "language_info": {
   "name": "python",
   "version": "3.11.13",
   "mimetype": "text/x-python",
   "codemirror_mode": {
    "name": "ipython",
    "version": 3
   },
   "pygments_lexer": "ipython3",
   "nbconvert_exporter": "python",
   "file_extension": ".py"
  },
  "kaggle": {
   "accelerator": "none",
   "dataSources": [
    {
     "sourceId": 13417049,
     "sourceType": "datasetVersion",
     "datasetId": 8515589
    }
   ],
   "dockerImageVersionId": 31153,
   "isInternetEnabled": true,
   "language": "python",
   "sourceType": "notebook",
   "isGpuEnabled": false
  }
 },
 "nbformat_minor": 4,
 "nbformat": 4,
 "cells": [
  {
   "cell_type": "markdown",
   "source": "# 拆书系统 - Kaggle Worker 节点\n\n## 使用步骤\n\n### 1. Kaggle 设置\n- **Accelerator**: CPU (不要选 GPU)\n- **Internet**: **ON** (必需)\n\n### 2. 上传 .env 文件\n- 点击右侧 **+ Add Data** → **Upload**\n- 上传你的 `.env` 配置文件\n\n### 3. 运行\n依次运行下面的 4 个单元格即可。\n\n---",
   "metadata": {}
  },
  {
   "cell_type": "markdown",
   "source": "## 1. 安装依赖包",
   "metadata": {}
  },
  {
   "cell_type": "code",
   "source": "%%time\n!pip install -q Flask==2.3.3 Flask-CORS==4.0.0 Flask-SocketIO==5.3.6 SQLAlchemy==2.0.21 \\\n    httpx==0.25.0 PyMySQL==1.1.0 neo4j==5.28.0 redis==5.0.0 python-dotenv==1.0.0 \\\n    APScheduler==3.11.0 requests==2.32.0 chardet==5.2.0\n\nprint(\"✅ 依赖包安装完成\")",
   "metadata": {
    "trusted": true
   },
   "outputs": [],
   "execution_count": null
  },
  {
   "cell_type": "markdown",
   "source": "## 2. 下载代码并配置",
   "metadata": {}
  },
  {
   "cell_type": "code",
   "source": "%%time\nimport os\nimport shutil\n\n# Clone 代码\nprint(\"📦 下载代码...\")\n!git clone https://github.com/ronghuaxueleng/chaishu-worker-service.git /kaggle/working/worker\n\n# 切换目录\nos.chdir('/kaggle/working/worker')\nprint(f\"✅ 工作目录: {os.getcwd()}\")\n\n# 复制 .env 文件\nif os.path.exists('/kaggle/input/chaisuh-env/.env'):\n    shutil.copy('/kaggle/input/chaisuh-env/.env', '.env')\n    print(\"✅ 配置文件已复制\")\nelse:\n    raise FileNotFoundError(\"❌ 请先上传 .env 文件\")\n\n# 创建日志目录\n!mkdir -p logs\nprint(\"✅ 环境准备完成\")",
   "metadata": {
    "trusted": true
   },
   "outputs": [],
   "execution_count": null
  },
  {
   "cell_type": "markdown",
   "source": "## 3. 查看配置（可选）",
   "metadata": {}
  },
  {
   "cell_type": "code",
   "source": "# 显示配置（隐藏密码）\nprint(\"📋 配置信息:\")\nprint(\"=\" * 50)\nwith open('.env') as f:\n    for line in f:\n        line = line.strip()\n        if line and not line.startswith('#') and '=' in line:\n            key, val = line.split('=', 1)\n            if 'PASSWORD' in key.upper():\n                print(f\"{key}=***\")\n            else:\n                print(f\"{key}={val}\")\nprint(\"=\" * 50)",
   "metadata": {
    "trusted": true
   },
   "outputs": [],
   "execution_count": null
  },
  {
   "cell_type": "markdown",
   "source": "## 4. 启动 Worker\n\n**⚠️ 此单元格会持续运行直到手动停止或 Kaggle 超时（9小时）**\n\n- 点击左侧 **停止按钮** 可以停止\n- Worker 会自动发现所有激活的 AI providers 并启动对应进程\n- 进程数由 `.env` 中的 `KG_WORKERS_PER_PROVIDER` 控制",
   "metadata": {}
  },
  {
   "cell_type": "code",
   "source": "# 启动 Worker（会一直运行）\n# 设置 spawn 模式以兼容 Kaggle/Jupyter 环境\nimport os\nos.environ['MULTIPROCESSING_START_METHOD'] = 'spawn'\n\n!python worker.py",
   "metadata": {
    "trusted": true
   },
   "outputs": [],
   "execution_count": null
  },
  {
   "cell_type": "markdown",
   "source": "---\n\n## 故障排查\n\n如果遇到问题，运行下面的单元格查看日志。",
   "metadata": {}
  },
  {
   "cell_type": "code",
   "source": "# 查看最新 100 行日志\n!tail -n 100 logs/worker.log",
   "metadata": {
    "trusted": true
   },
   "outputs": [],
   "execution_count": null
  },
  {
   "cell_type": "markdown",
   "source": "## 停止 Worker",
   "metadata": {}
  },
  {
   "cell_type": "code",
   "source": "# 停止所有 worker 进程\n!pkill -f \"python worker.py\"\nprint(\"✅ Worker 已停止\")",
   "metadata": {
    "trusted": true
   },
   "outputs": [],
   "execution_count": null
  }
 ]
}